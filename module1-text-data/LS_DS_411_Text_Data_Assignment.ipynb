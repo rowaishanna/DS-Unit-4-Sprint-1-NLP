{
 "cells": [
  {
   "cell_type": "markdown",
   "metadata": {},
   "source": [
    "<img align=\"left\" src=\"https://lever-client-logos.s3.amazonaws.com/864372b1-534c-480e-acd5-9711f850815c-1524247202159.png\" width=200>\n",
    "<br></br>\n",
    "<br></br>\n",
    "\n",
    "# Natural Language Processing (NLP)\n",
    "## *Data Science Unit 4 Sprint 1 Assignment 1*\n",
    "\n",
    "Your goal in this assignment: find the attributes of the best & worst coffee shops in the dataset. The text is fairly raw: dates in the review, extra words in the `star_rating` column, etc. You'll probably want to clean that stuff up for a better analysis. \n",
    "\n",
    "Analyze the corpus of text using text visualizations of token frequency. Try cleaning the data as much as possible. Try the following techniques: \n",
    "- Lemmatization\n",
    "- Custom stopword removal\n",
    "\n",
    "Keep in mind the attributes of good tokens. Once you have a solid baseline, layer in the star rating in your visualization(s). Key part of this assignment - produce a write-up of the attributes of the best and worst coffee shops. Based on your analysis, what makes the best the best and the worst the worst. Use graphs and numbesr from your analysis to support your conclusions. There should be plenty of markdown cells! :coffee:"
   ]
  },
  {
   "cell_type": "code",
   "execution_count": 47,
   "metadata": {},
   "outputs": [
    {
     "data": {
      "image/jpeg": "[encoded data removed]",
      "text/html": [
       "\n",
       "        <iframe\n",
       "            width=\"400\"\n",
       "            height=\"300\"\n",
       "            src=\"https://www.youtube.com/embed/Jml7NVYm8cs\"\n",
       "            frameborder=\"0\"\n",
       "            allowfullscreen\n",
       "        ></iframe>\n",
       "        "
      ],
      "text/plain": [
       "<IPython.lib.display.YouTubeVideo at 0x285a8bcb988>"
      ]
     },
     "execution_count": 47,
     "metadata": {},
     "output_type": "execute_result"
    }
   ],
   "source": [
    "from IPython.display import YouTubeVideo\n",
    "\n",
    "YouTubeVideo('Jml7NVYm8cs')"
   ]
  },
  {
   "cell_type": "code",
   "execution_count": 48,
   "metadata": {},
   "outputs": [
    {
     "data": {
      "text/plain": [
       "'C:\\\\Users\\\\rowai\\\\Dropbox\\\\Data Science\\\\DS-Unit-4-Sprint-1-NLP\\\\module1-text-data'"
      ]
     },
     "execution_count": 48,
     "metadata": {},
     "output_type": "execute_result"
    }
   ],
   "source": [
    "%pwd"
   ]
  },
  {
   "cell_type": "code",
   "execution_count": 49,
   "metadata": {},
   "outputs": [
    {
     "data": {
      "text/html": [
       "<div>\n",
       "<style scoped>\n",
       "    .dataframe tbody tr th:only-of-type {\n",
       "        vertical-align: middle;\n",
       "    }\n",
       "\n",
       "    .dataframe tbody tr th {\n",
       "        vertical-align: top;\n",
       "    }\n",
       "\n",
       "    .dataframe thead th {\n",
       "        text-align: right;\n",
       "    }\n",
       "</style>\n",
       "<table border=\"1\" class=\"dataframe\">\n",
       "  <thead>\n",
       "    <tr style=\"text-align: right;\">\n",
       "      <th></th>\n",
       "      <th>coffee_shop_name</th>\n",
       "      <th>full_review_text</th>\n",
       "      <th>star_rating</th>\n",
       "    </tr>\n",
       "  </thead>\n",
       "  <tbody>\n",
       "    <tr>\n",
       "      <th>0</th>\n",
       "      <td>The Factory - Cafe With a Soul</td>\n",
       "      <td>11/25/2016 1 check-in Love love loved the atm...</td>\n",
       "      <td>5.0 star rating</td>\n",
       "    </tr>\n",
       "    <tr>\n",
       "      <th>1</th>\n",
       "      <td>The Factory - Cafe With a Soul</td>\n",
       "      <td>12/2/2016 Listed in Date Night: Austin, Ambia...</td>\n",
       "      <td>4.0 star rating</td>\n",
       "    </tr>\n",
       "    <tr>\n",
       "      <th>2</th>\n",
       "      <td>The Factory - Cafe With a Soul</td>\n",
       "      <td>11/30/2016 1 check-in Listed in Brunch Spots ...</td>\n",
       "      <td>4.0 star rating</td>\n",
       "    </tr>\n",
       "    <tr>\n",
       "      <th>3</th>\n",
       "      <td>The Factory - Cafe With a Soul</td>\n",
       "      <td>11/25/2016 Very cool decor! Good drinks Nice ...</td>\n",
       "      <td>2.0 star rating</td>\n",
       "    </tr>\n",
       "    <tr>\n",
       "      <th>4</th>\n",
       "      <td>The Factory - Cafe With a Soul</td>\n",
       "      <td>12/3/2016 1 check-in They are located within ...</td>\n",
       "      <td>4.0 star rating</td>\n",
       "    </tr>\n",
       "  </tbody>\n",
       "</table>\n",
       "</div>"
      ],
      "text/plain": [
       "                  coffee_shop_name  \\\n",
       "0  The Factory - Cafe With a Soul    \n",
       "1  The Factory - Cafe With a Soul    \n",
       "2  The Factory - Cafe With a Soul    \n",
       "3  The Factory - Cafe With a Soul    \n",
       "4  The Factory - Cafe With a Soul    \n",
       "\n",
       "                                    full_review_text        star_rating  \n",
       "0   11/25/2016 1 check-in Love love loved the atm...   5.0 star rating   \n",
       "1   12/2/2016 Listed in Date Night: Austin, Ambia...   4.0 star rating   \n",
       "2   11/30/2016 1 check-in Listed in Brunch Spots ...   4.0 star rating   \n",
       "3   11/25/2016 Very cool decor! Good drinks Nice ...   2.0 star rating   \n",
       "4   12/3/2016 1 check-in They are located within ...   4.0 star rating   "
      ]
     },
     "execution_count": 49,
     "metadata": {},
     "output_type": "execute_result"
    }
   ],
   "source": [
    "import pandas as pd\n",
    "\n",
    "url = \"https://raw.githubusercontent.com/LambdaSchool/DS-Unit-4-Sprint-1-NLP/main/module1-text-data/data/yelp_coffeeshop_review_data.csv\"\n",
    "\n",
    "shops = pd.read_csv(url)\n",
    "shops.head()"
   ]
  },
  {
   "cell_type": "code",
   "execution_count": 50,
   "metadata": {},
   "outputs": [],
   "source": [
    "\"\"\"\n",
    "Import Statements\n",
    "\"\"\"\n",
    "\n",
    "# Base\n",
    "from collections import Counter\n",
    "import re\n",
    " \n",
    "import pandas as pd\n",
    "\n",
    "# Plotting\n",
    "import squarify\n",
    "import matplotlib.pyplot as plt\n",
    "import seaborn as sns\n",
    "\n",
    "# NLP Libraries\n",
    "import spacy\n",
    "from spacy.tokenizer import Tokenizer\n",
    "from nltk.stem import PorterStemmer\n",
    "\n",
    "nlp = spacy.load(\"en_core_web_lg\")"
   ]
  },
  {
   "cell_type": "markdown",
   "metadata": {},
   "source": [
    "## How do we want to analyze these coffee shop tokens? \n",
    "\n",
    "- Overall Word / Token Count\n",
    "- View Counts by Rating \n",
    "- *Hint:* a 'bad' coffee shops has a rating betweeen 1 & 3 based on the distribution of ratings. A 'good' coffee shop is a 4 or 5. "
   ]
  },
  {
   "cell_type": "code",
   "execution_count": 51,
   "metadata": {},
   "outputs": [
    {
     "data": {
      "text/plain": [
       "(7616, 3)"
      ]
     },
     "execution_count": 51,
     "metadata": {},
     "output_type": "execute_result"
    }
   ],
   "source": [
    "shops.shape"
   ]
  },
  {
   "cell_type": "code",
   "execution_count": 52,
   "metadata": {},
   "outputs": [
    {
     "data": {
      "text/plain": [
       " 5.0 star rating     0.496324\n",
       " 4.0 star rating     0.309874\n",
       " 3.0 star rating     0.096901\n",
       " 2.0 star rating     0.060399\n",
       " 1.0 star rating     0.036502\n",
       "Name: star_rating, dtype: float64"
      ]
     },
     "execution_count": 52,
     "metadata": {},
     "output_type": "execute_result"
    }
   ],
   "source": [
    "shops['star_rating'].value_counts(normalize=True)"
   ]
  },
  {
   "cell_type": "markdown",
   "metadata": {},
   "source": [
    "**Approximately 80% of the coffee shops in this dataset are \"good\"; 4 or 5 star rating.**"
   ]
  },
  {
   "cell_type": "code",
   "execution_count": 53,
   "metadata": {},
   "outputs": [],
   "source": [
    "import spacy\n",
    "from spacy.tokenizer import Tokenizer\n",
    "\n",
    "nlp = spacy.load(\"en_core_web_lg\")\n",
    "\n",
    "# Tokenizer\n",
    "tokenizer = Tokenizer(nlp.vocab)"
   ]
  },
  {
   "cell_type": "code",
   "execution_count": 54,
   "metadata": {},
   "outputs": [],
   "source": [
    "tokens = []\n",
    "\n",
    "\"\"\" Make them tokens \"\"\"\n",
    "for doc in tokenizer.pipe(shops['full_review_text'], batch_size=500):\n",
    "    doc_tokens = [token.text for token in doc]\n",
    "    tokens.append(doc_tokens)\n",
    "\n",
    "shops['tokens'] = tokens"
   ]
  },
  {
   "cell_type": "code",
   "execution_count": 55,
   "metadata": {},
   "outputs": [
    {
     "data": {
      "text/plain": [
       "0    [ , 11/25/2016, 1, check-in, Love, love, loved...\n",
       "1    [ , 12/2/2016, Listed, in, Date, Night:, Austi...\n",
       "2    [ , 11/30/2016, 1, check-in, Listed, in, Brunc...\n",
       "3    [ , 11/25/2016, Very, cool, decor!, Good, drin...\n",
       "4    [ , 12/3/2016, 1, check-in, They, are, located...\n",
       "Name: tokens, dtype: object"
      ]
     },
     "execution_count": 55,
     "metadata": {},
     "output_type": "execute_result"
    }
   ],
   "source": [
    "shops['tokens'].head()"
   ]
  },
  {
   "cell_type": "code",
   "execution_count": 56,
   "metadata": {},
   "outputs": [],
   "source": [
    "# Object from Base Python\n",
    "from collections import Counter\n",
    "\n",
    "# The object `Counter` takes an iterable, but you can instaniate an empty one and update it. \n",
    "word_counts = Counter()\n",
    "\n",
    "def count(docs):\n",
    "\n",
    "        word_counts = Counter()\n",
    "        appears_in = Counter()\n",
    "        \n",
    "        total_docs = len(docs)\n",
    "\n",
    "        for doc in docs:\n",
    "            word_counts.update(doc)\n",
    "            appears_in.update(set(doc))\n",
    "\n",
    "        temp = zip(word_counts.keys(), word_counts.values())\n",
    "        \n",
    "        wc = pd.DataFrame(temp, columns = ['word', 'count'])\n",
    "\n",
    "        wc['rank'] = wc['count'].rank(method='first', ascending=False)\n",
    "        total = wc['count'].sum()\n",
    "\n",
    "        wc['pct_total'] = wc['count'].apply(lambda x: x / total)\n",
    "        \n",
    "        wc = wc.sort_values(by='rank')\n",
    "        wc['cul_pct_total'] = wc['pct_total'].cumsum()\n",
    "\n",
    "        t2 = zip(appears_in.keys(), appears_in.values())\n",
    "        ac = pd.DataFrame(t2, columns=['word', 'appears_in'])\n",
    "        wc = ac.merge(wc, on='word')\n",
    "\n",
    "        wc['appears_in_pct'] = wc['appears_in'].apply(lambda x: x / total_docs)\n",
    "        \n",
    "        return wc.sort_values(by='rank')\n",
    "\n"
   ]
  },
  {
   "cell_type": "code",
   "execution_count": 57,
   "metadata": {},
   "outputs": [],
   "source": [
    "wc = count(shops['tokens'])"
   ]
  },
  {
   "cell_type": "code",
   "execution_count": 58,
   "metadata": {},
   "outputs": [
    {
     "data": {
      "text/html": [
       "<div>\n",
       "<style scoped>\n",
       "    .dataframe tbody tr th:only-of-type {\n",
       "        vertical-align: middle;\n",
       "    }\n",
       "\n",
       "    .dataframe tbody tr th {\n",
       "        vertical-align: top;\n",
       "    }\n",
       "\n",
       "    .dataframe thead th {\n",
       "        text-align: right;\n",
       "    }\n",
       "</style>\n",
       "<table border=\"1\" class=\"dataframe\">\n",
       "  <thead>\n",
       "    <tr style=\"text-align: right;\">\n",
       "      <th></th>\n",
       "      <th>word</th>\n",
       "      <th>appears_in</th>\n",
       "      <th>count</th>\n",
       "      <th>rank</th>\n",
       "      <th>pct_total</th>\n",
       "      <th>cul_pct_total</th>\n",
       "      <th>appears_in_pct</th>\n",
       "    </tr>\n",
       "  </thead>\n",
       "  <tbody>\n",
       "    <tr>\n",
       "      <th>75</th>\n",
       "      <td>the</td>\n",
       "      <td>6520</td>\n",
       "      <td>27779</td>\n",
       "      <td>1.0</td>\n",
       "      <td>0.034334</td>\n",
       "      <td>0.034334</td>\n",
       "      <td>0.856092</td>\n",
       "    </tr>\n",
       "    <tr>\n",
       "      <th>69</th>\n",
       "      <td>and</td>\n",
       "      <td>6804</td>\n",
       "      <td>25748</td>\n",
       "      <td>2.0</td>\n",
       "      <td>0.031824</td>\n",
       "      <td>0.066157</td>\n",
       "      <td>0.893382</td>\n",
       "    </tr>\n",
       "    <tr>\n",
       "      <th>3</th>\n",
       "      <td></td>\n",
       "      <td>7616</td>\n",
       "      <td>22606</td>\n",
       "      <td>3.0</td>\n",
       "      <td>0.027940</td>\n",
       "      <td>0.094097</td>\n",
       "      <td>1.000000</td>\n",
       "    </tr>\n",
       "    <tr>\n",
       "      <th>23</th>\n",
       "      <td>a</td>\n",
       "      <td>6181</td>\n",
       "      <td>22085</td>\n",
       "      <td>4.0</td>\n",
       "      <td>0.027296</td>\n",
       "      <td>0.121394</td>\n",
       "      <td>0.811581</td>\n",
       "    </tr>\n",
       "    <tr>\n",
       "      <th>72</th>\n",
       "      <td>I</td>\n",
       "      <td>5469</td>\n",
       "      <td>19780</td>\n",
       "      <td>5.0</td>\n",
       "      <td>0.024447</td>\n",
       "      <td>0.145841</td>\n",
       "      <td>0.718093</td>\n",
       "    </tr>\n",
       "  </tbody>\n",
       "</table>\n",
       "</div>"
      ],
      "text/plain": [
       "   word  appears_in  count  rank  pct_total  cul_pct_total  appears_in_pct\n",
       "75  the        6520  27779   1.0   0.034334       0.034334        0.856092\n",
       "69  and        6804  25748   2.0   0.031824       0.066157        0.893382\n",
       "3              7616  22606   3.0   0.027940       0.094097        1.000000\n",
       "23    a        6181  22085   4.0   0.027296       0.121394        0.811581\n",
       "72    I        5469  19780   5.0   0.024447       0.145841        0.718093"
      ]
     },
     "execution_count": 58,
     "metadata": {},
     "output_type": "execute_result"
    }
   ],
   "source": [
    "wc.head()"
   ]
  },
  {
   "cell_type": "code",
   "execution_count": 59,
   "metadata": {},
   "outputs": [],
   "source": [
    "tokens = []\n",
    "\n",
    "\"\"\" Update those tokens w/o stopwords\"\"\"\n",
    "for doc in tokenizer.pipe(shops['full_review_text'], batch_size=500):\n",
    "    \n",
    "    doc_tokens = []\n",
    "    \n",
    "    for token in doc:\n",
    "        if (token.is_stop == False) & (token.is_punct == False):\n",
    "            doc_tokens.append(token.text.lower())\n",
    "\n",
    "    tokens.append(doc_tokens)\n",
    "\n",
    "shops['tokens'] = tokens"
   ]
  },
  {
   "cell_type": "code",
   "execution_count": 60,
   "metadata": {},
   "outputs": [
    {
     "data": {
      "text/plain": [
       "0    [ , 11/25/2016, 1, check-in, love, love, loved...\n",
       "1    [ , 12/2/2016, listed, date, night:, austin,, ...\n",
       "2    [ , 11/30/2016, 1, check-in, listed, brunch, s...\n",
       "3    [ , 11/25/2016, cool, decor!, good, drinks, ni...\n",
       "4    [ , 12/3/2016, 1, check-in, located, northcros...\n",
       "Name: tokens, dtype: object"
      ]
     },
     "execution_count": 60,
     "metadata": {},
     "output_type": "execute_result"
    }
   ],
   "source": [
    "shops.tokens.head()"
   ]
  },
  {
   "cell_type": "code",
   "execution_count": 61,
   "metadata": {},
   "outputs": [
    {
     "data": {
      "text/html": [
       "<div>\n",
       "<style scoped>\n",
       "    .dataframe tbody tr th:only-of-type {\n",
       "        vertical-align: middle;\n",
       "    }\n",
       "\n",
       "    .dataframe tbody tr th {\n",
       "        vertical-align: top;\n",
       "    }\n",
       "\n",
       "    .dataframe thead th {\n",
       "        text-align: right;\n",
       "    }\n",
       "</style>\n",
       "<table border=\"1\" class=\"dataframe\">\n",
       "  <thead>\n",
       "    <tr style=\"text-align: right;\">\n",
       "      <th></th>\n",
       "      <th>word</th>\n",
       "      <th>appears_in</th>\n",
       "      <th>count</th>\n",
       "      <th>rank</th>\n",
       "      <th>pct_total</th>\n",
       "      <th>cul_pct_total</th>\n",
       "      <th>appears_in_pct</th>\n",
       "    </tr>\n",
       "  </thead>\n",
       "  <tbody>\n",
       "    <tr>\n",
       "      <th>7</th>\n",
       "      <td></td>\n",
       "      <td>7616</td>\n",
       "      <td>22606</td>\n",
       "      <td>1.0</td>\n",
       "      <td>0.053592</td>\n",
       "      <td>0.053592</td>\n",
       "      <td>1.000000</td>\n",
       "    </tr>\n",
       "    <tr>\n",
       "      <th>17</th>\n",
       "      <td>coffee</td>\n",
       "      <td>4210</td>\n",
       "      <td>8058</td>\n",
       "      <td>2.0</td>\n",
       "      <td>0.019103</td>\n",
       "      <td>0.072695</td>\n",
       "      <td>0.552784</td>\n",
       "    </tr>\n",
       "    <tr>\n",
       "      <th>98</th>\n",
       "      <td>place</td>\n",
       "      <td>3029</td>\n",
       "      <td>4264</td>\n",
       "      <td>3.0</td>\n",
       "      <td>0.010109</td>\n",
       "      <td>0.082803</td>\n",
       "      <td>0.397715</td>\n",
       "    </tr>\n",
       "    <tr>\n",
       "      <th>89</th>\n",
       "      <td>great</td>\n",
       "      <td>2438</td>\n",
       "      <td>3250</td>\n",
       "      <td>4.0</td>\n",
       "      <td>0.007705</td>\n",
       "      <td>0.090508</td>\n",
       "      <td>0.320116</td>\n",
       "    </tr>\n",
       "    <tr>\n",
       "      <th>266</th>\n",
       "      <td>it's</td>\n",
       "      <td>2061</td>\n",
       "      <td>3117</td>\n",
       "      <td>5.0</td>\n",
       "      <td>0.007389</td>\n",
       "      <td>0.097897</td>\n",
       "      <td>0.270614</td>\n",
       "    </tr>\n",
       "    <tr>\n",
       "      <th>184</th>\n",
       "      <td>like</td>\n",
       "      <td>2034</td>\n",
       "      <td>2902</td>\n",
       "      <td>6.0</td>\n",
       "      <td>0.006880</td>\n",
       "      <td>0.104777</td>\n",
       "      <td>0.267069</td>\n",
       "    </tr>\n",
       "    <tr>\n",
       "      <th>196</th>\n",
       "      <td>good</td>\n",
       "      <td>2084</td>\n",
       "      <td>2779</td>\n",
       "      <td>7.0</td>\n",
       "      <td>0.006588</td>\n",
       "      <td>0.111365</td>\n",
       "      <td>0.273634</td>\n",
       "    </tr>\n",
       "    <tr>\n",
       "      <th>11</th>\n",
       "      <td>1</td>\n",
       "      <td>1998</td>\n",
       "      <td>2035</td>\n",
       "      <td>8.0</td>\n",
       "      <td>0.004824</td>\n",
       "      <td>0.116190</td>\n",
       "      <td>0.262342</td>\n",
       "    </tr>\n",
       "    <tr>\n",
       "      <th>29</th>\n",
       "      <td>check-in</td>\n",
       "      <td>1957</td>\n",
       "      <td>1961</td>\n",
       "      <td>9.0</td>\n",
       "      <td>0.004649</td>\n",
       "      <td>0.120839</td>\n",
       "      <td>0.256959</td>\n",
       "    </tr>\n",
       "    <tr>\n",
       "      <th>31</th>\n",
       "      <td>love</td>\n",
       "      <td>1434</td>\n",
       "      <td>1806</td>\n",
       "      <td>10.0</td>\n",
       "      <td>0.004281</td>\n",
       "      <td>0.125120</td>\n",
       "      <td>0.188288</td>\n",
       "    </tr>\n",
       "    <tr>\n",
       "      <th>321</th>\n",
       "      <td>i'm</td>\n",
       "      <td>1382</td>\n",
       "      <td>1797</td>\n",
       "      <td>11.0</td>\n",
       "      <td>0.004260</td>\n",
       "      <td>0.129380</td>\n",
       "      <td>0.181460</td>\n",
       "    </tr>\n",
       "    <tr>\n",
       "      <th>308</th>\n",
       "      <td>i've</td>\n",
       "      <td>1164</td>\n",
       "      <td>1479</td>\n",
       "      <td>12.0</td>\n",
       "      <td>0.003506</td>\n",
       "      <td>0.132886</td>\n",
       "      <td>0.152836</td>\n",
       "    </tr>\n",
       "    <tr>\n",
       "      <th>799</th>\n",
       "      <td>little</td>\n",
       "      <td>1230</td>\n",
       "      <td>1479</td>\n",
       "      <td>13.0</td>\n",
       "      <td>0.003506</td>\n",
       "      <td>0.136393</td>\n",
       "      <td>0.161502</td>\n",
       "    </tr>\n",
       "    <tr>\n",
       "      <th>328</th>\n",
       "      <td>don't</td>\n",
       "      <td>1133</td>\n",
       "      <td>1395</td>\n",
       "      <td>14.0</td>\n",
       "      <td>0.003307</td>\n",
       "      <td>0.139700</td>\n",
       "      <td>0.148766</td>\n",
       "    </tr>\n",
       "    <tr>\n",
       "      <th>181</th>\n",
       "      <td>nice</td>\n",
       "      <td>1188</td>\n",
       "      <td>1368</td>\n",
       "      <td>15.0</td>\n",
       "      <td>0.003243</td>\n",
       "      <td>0.142943</td>\n",
       "      <td>0.155987</td>\n",
       "    </tr>\n",
       "    <tr>\n",
       "      <th>464</th>\n",
       "      <td>food</td>\n",
       "      <td>1092</td>\n",
       "      <td>1363</td>\n",
       "      <td>16.0</td>\n",
       "      <td>0.003231</td>\n",
       "      <td>0.146174</td>\n",
       "      <td>0.143382</td>\n",
       "    </tr>\n",
       "    <tr>\n",
       "      <th>617</th>\n",
       "      <td>time</td>\n",
       "      <td>1099</td>\n",
       "      <td>1345</td>\n",
       "      <td>17.0</td>\n",
       "      <td>0.003189</td>\n",
       "      <td>0.149363</td>\n",
       "      <td>0.144301</td>\n",
       "    </tr>\n",
       "    <tr>\n",
       "      <th>22</th>\n",
       "      <td>pretty</td>\n",
       "      <td>1066</td>\n",
       "      <td>1339</td>\n",
       "      <td>18.0</td>\n",
       "      <td>0.003174</td>\n",
       "      <td>0.152537</td>\n",
       "      <td>0.139968</td>\n",
       "    </tr>\n",
       "    <tr>\n",
       "      <th>19</th>\n",
       "      <td>got</td>\n",
       "      <td>980</td>\n",
       "      <td>1247</td>\n",
       "      <td>19.0</td>\n",
       "      <td>0.002956</td>\n",
       "      <td>0.155493</td>\n",
       "      <td>0.128676</td>\n",
       "    </tr>\n",
       "    <tr>\n",
       "      <th>950</th>\n",
       "      <td>people</td>\n",
       "      <td>1015</td>\n",
       "      <td>1223</td>\n",
       "      <td>20.0</td>\n",
       "      <td>0.002899</td>\n",
       "      <td>0.158393</td>\n",
       "      <td>0.133272</td>\n",
       "    </tr>\n",
       "  </tbody>\n",
       "</table>\n",
       "</div>"
      ],
      "text/plain": [
       "         word  appears_in  count  rank  pct_total  cul_pct_total  \\\n",
       "7                    7616  22606   1.0   0.053592       0.053592   \n",
       "17     coffee        4210   8058   2.0   0.019103       0.072695   \n",
       "98      place        3029   4264   3.0   0.010109       0.082803   \n",
       "89      great        2438   3250   4.0   0.007705       0.090508   \n",
       "266      it's        2061   3117   5.0   0.007389       0.097897   \n",
       "184      like        2034   2902   6.0   0.006880       0.104777   \n",
       "196      good        2084   2779   7.0   0.006588       0.111365   \n",
       "11          1        1998   2035   8.0   0.004824       0.116190   \n",
       "29   check-in        1957   1961   9.0   0.004649       0.120839   \n",
       "31       love        1434   1806  10.0   0.004281       0.125120   \n",
       "321       i'm        1382   1797  11.0   0.004260       0.129380   \n",
       "308      i've        1164   1479  12.0   0.003506       0.132886   \n",
       "799    little        1230   1479  13.0   0.003506       0.136393   \n",
       "328     don't        1133   1395  14.0   0.003307       0.139700   \n",
       "181      nice        1188   1368  15.0   0.003243       0.142943   \n",
       "464      food        1092   1363  16.0   0.003231       0.146174   \n",
       "617      time        1099   1345  17.0   0.003189       0.149363   \n",
       "22     pretty        1066   1339  18.0   0.003174       0.152537   \n",
       "19        got         980   1247  19.0   0.002956       0.155493   \n",
       "950    people        1015   1223  20.0   0.002899       0.158393   \n",
       "\n",
       "     appears_in_pct  \n",
       "7          1.000000  \n",
       "17         0.552784  \n",
       "98         0.397715  \n",
       "89         0.320116  \n",
       "266        0.270614  \n",
       "184        0.267069  \n",
       "196        0.273634  \n",
       "11         0.262342  \n",
       "29         0.256959  \n",
       "31         0.188288  \n",
       "321        0.181460  \n",
       "308        0.152836  \n",
       "799        0.161502  \n",
       "328        0.148766  \n",
       "181        0.155987  \n",
       "464        0.143382  \n",
       "617        0.144301  \n",
       "22         0.139968  \n",
       "19         0.128676  \n",
       "950        0.133272  "
      ]
     },
     "execution_count": 61,
     "metadata": {},
     "output_type": "execute_result"
    }
   ],
   "source": [
    "wc = count(shops['tokens'])\n",
    "wc.head(20)"
   ]
  },
  {
   "cell_type": "code",
   "execution_count": 62,
   "metadata": {},
   "outputs": [],
   "source": [
    "STOP_WORDS = nlp.Defaults.stop_words.union(['food','coffee', \"i've\", \"i'm\", '1', \" \", 'it', \"it's\", 'it.', 'the', 'place', '-', 'coffee.', 'this',])"
   ]
  },
  {
   "cell_type": "code",
   "execution_count": 63,
   "metadata": {},
   "outputs": [],
   "source": [
    "tokens = []\n",
    "\n",
    "for doc in tokenizer.pipe(shops['full_review_text'], batch_size=500):\n",
    "    \n",
    "    doc_tokens = []\n",
    "    \n",
    "    for token in doc: \n",
    "        if token.text.lower() not in STOP_WORDS:\n",
    "            doc_tokens.append(token.text.lower())\n",
    "   \n",
    "    tokens.append(doc_tokens)\n",
    "    \n",
    "shops['tokens'] = tokens"
   ]
  },
  {
   "cell_type": "code",
   "execution_count": 64,
   "metadata": {},
   "outputs": [
    {
     "data": {
      "text/html": [
       "<div>\n",
       "<style scoped>\n",
       "    .dataframe tbody tr th:only-of-type {\n",
       "        vertical-align: middle;\n",
       "    }\n",
       "\n",
       "    .dataframe tbody tr th {\n",
       "        vertical-align: top;\n",
       "    }\n",
       "\n",
       "    .dataframe thead th {\n",
       "        text-align: right;\n",
       "    }\n",
       "</style>\n",
       "<table border=\"1\" class=\"dataframe\">\n",
       "  <thead>\n",
       "    <tr style=\"text-align: right;\">\n",
       "      <th></th>\n",
       "      <th>word</th>\n",
       "      <th>appears_in</th>\n",
       "      <th>count</th>\n",
       "      <th>rank</th>\n",
       "      <th>pct_total</th>\n",
       "      <th>cul_pct_total</th>\n",
       "      <th>appears_in_pct</th>\n",
       "    </tr>\n",
       "  </thead>\n",
       "  <tbody>\n",
       "    <tr>\n",
       "      <th>87</th>\n",
       "      <td>great</td>\n",
       "      <td>2438</td>\n",
       "      <td>3250</td>\n",
       "      <td>1.0</td>\n",
       "      <td>0.008618</td>\n",
       "      <td>0.008618</td>\n",
       "      <td>0.320116</td>\n",
       "    </tr>\n",
       "    <tr>\n",
       "      <th>180</th>\n",
       "      <td>like</td>\n",
       "      <td>2034</td>\n",
       "      <td>2902</td>\n",
       "      <td>2.0</td>\n",
       "      <td>0.007695</td>\n",
       "      <td>0.016313</td>\n",
       "      <td>0.267069</td>\n",
       "    </tr>\n",
       "    <tr>\n",
       "      <th>192</th>\n",
       "      <td>good</td>\n",
       "      <td>2084</td>\n",
       "      <td>2779</td>\n",
       "      <td>3.0</td>\n",
       "      <td>0.007369</td>\n",
       "      <td>0.023681</td>\n",
       "      <td>0.273634</td>\n",
       "    </tr>\n",
       "    <tr>\n",
       "      <th>26</th>\n",
       "      <td>check-in</td>\n",
       "      <td>1957</td>\n",
       "      <td>1961</td>\n",
       "      <td>4.0</td>\n",
       "      <td>0.005200</td>\n",
       "      <td>0.028881</td>\n",
       "      <td>0.256959</td>\n",
       "    </tr>\n",
       "    <tr>\n",
       "      <th>28</th>\n",
       "      <td>love</td>\n",
       "      <td>1434</td>\n",
       "      <td>1806</td>\n",
       "      <td>5.0</td>\n",
       "      <td>0.004789</td>\n",
       "      <td>0.033670</td>\n",
       "      <td>0.188288</td>\n",
       "    </tr>\n",
       "    <tr>\n",
       "      <th>793</th>\n",
       "      <td>little</td>\n",
       "      <td>1230</td>\n",
       "      <td>1479</td>\n",
       "      <td>6.0</td>\n",
       "      <td>0.003922</td>\n",
       "      <td>0.037592</td>\n",
       "      <td>0.161502</td>\n",
       "    </tr>\n",
       "    <tr>\n",
       "      <th>322</th>\n",
       "      <td>don't</td>\n",
       "      <td>1133</td>\n",
       "      <td>1395</td>\n",
       "      <td>7.0</td>\n",
       "      <td>0.003699</td>\n",
       "      <td>0.041291</td>\n",
       "      <td>0.148766</td>\n",
       "    </tr>\n",
       "    <tr>\n",
       "      <th>177</th>\n",
       "      <td>nice</td>\n",
       "      <td>1188</td>\n",
       "      <td>1368</td>\n",
       "      <td>8.0</td>\n",
       "      <td>0.003627</td>\n",
       "      <td>0.044918</td>\n",
       "      <td>0.155987</td>\n",
       "    </tr>\n",
       "    <tr>\n",
       "      <th>610</th>\n",
       "      <td>time</td>\n",
       "      <td>1099</td>\n",
       "      <td>1345</td>\n",
       "      <td>9.0</td>\n",
       "      <td>0.003566</td>\n",
       "      <td>0.048484</td>\n",
       "      <td>0.144301</td>\n",
       "    </tr>\n",
       "    <tr>\n",
       "      <th>19</th>\n",
       "      <td>pretty</td>\n",
       "      <td>1066</td>\n",
       "      <td>1339</td>\n",
       "      <td>10.0</td>\n",
       "      <td>0.003550</td>\n",
       "      <td>0.052035</td>\n",
       "      <td>0.139968</td>\n",
       "    </tr>\n",
       "    <tr>\n",
       "      <th>16</th>\n",
       "      <td>got</td>\n",
       "      <td>980</td>\n",
       "      <td>1247</td>\n",
       "      <td>11.0</td>\n",
       "      <td>0.003307</td>\n",
       "      <td>0.055341</td>\n",
       "      <td>0.128676</td>\n",
       "    </tr>\n",
       "    <tr>\n",
       "      <th>965</th>\n",
       "      <td>people</td>\n",
       "      <td>1015</td>\n",
       "      <td>1223</td>\n",
       "      <td>12.0</td>\n",
       "      <td>0.003243</td>\n",
       "      <td>0.058584</td>\n",
       "      <td>0.133272</td>\n",
       "    </tr>\n",
       "    <tr>\n",
       "      <th>535</th>\n",
       "      <td>come</td>\n",
       "      <td>1031</td>\n",
       "      <td>1193</td>\n",
       "      <td>13.0</td>\n",
       "      <td>0.003163</td>\n",
       "      <td>0.061748</td>\n",
       "      <td>0.135373</td>\n",
       "    </tr>\n",
       "    <tr>\n",
       "      <th>63</th>\n",
       "      <td>austin</td>\n",
       "      <td>1034</td>\n",
       "      <td>1188</td>\n",
       "      <td>14.0</td>\n",
       "      <td>0.003150</td>\n",
       "      <td>0.064898</td>\n",
       "      <td>0.135767</td>\n",
       "    </tr>\n",
       "    <tr>\n",
       "      <th>483</th>\n",
       "      <td>best</td>\n",
       "      <td>1015</td>\n",
       "      <td>1165</td>\n",
       "      <td>15.0</td>\n",
       "      <td>0.003089</td>\n",
       "      <td>0.067987</td>\n",
       "      <td>0.133272</td>\n",
       "    </tr>\n",
       "    <tr>\n",
       "      <th>66</th>\n",
       "      <td>definitely</td>\n",
       "      <td>1011</td>\n",
       "      <td>1154</td>\n",
       "      <td>16.0</td>\n",
       "      <td>0.003060</td>\n",
       "      <td>0.071047</td>\n",
       "      <td>0.132747</td>\n",
       "    </tr>\n",
       "    <tr>\n",
       "      <th>203</th>\n",
       "      <td>friendly</td>\n",
       "      <td>1105</td>\n",
       "      <td>1145</td>\n",
       "      <td>17.0</td>\n",
       "      <td>0.003036</td>\n",
       "      <td>0.074083</td>\n",
       "      <td>0.145089</td>\n",
       "    </tr>\n",
       "    <tr>\n",
       "      <th>38</th>\n",
       "      <td>latte</td>\n",
       "      <td>855</td>\n",
       "      <td>1124</td>\n",
       "      <td>18.0</td>\n",
       "      <td>0.002980</td>\n",
       "      <td>0.077063</td>\n",
       "      <td>0.112264</td>\n",
       "    </tr>\n",
       "    <tr>\n",
       "      <th>39</th>\n",
       "      <td>shop</td>\n",
       "      <td>947</td>\n",
       "      <td>1115</td>\n",
       "      <td>19.0</td>\n",
       "      <td>0.002957</td>\n",
       "      <td>0.080020</td>\n",
       "      <td>0.124343</td>\n",
       "    </tr>\n",
       "    <tr>\n",
       "      <th>1009</th>\n",
       "      <td>iced</td>\n",
       "      <td>787</td>\n",
       "      <td>1044</td>\n",
       "      <td>20.0</td>\n",
       "      <td>0.002768</td>\n",
       "      <td>0.082788</td>\n",
       "      <td>0.103335</td>\n",
       "    </tr>\n",
       "  </tbody>\n",
       "</table>\n",
       "</div>"
      ],
      "text/plain": [
       "            word  appears_in  count  rank  pct_total  cul_pct_total  \\\n",
       "87         great        2438   3250   1.0   0.008618       0.008618   \n",
       "180         like        2034   2902   2.0   0.007695       0.016313   \n",
       "192         good        2084   2779   3.0   0.007369       0.023681   \n",
       "26      check-in        1957   1961   4.0   0.005200       0.028881   \n",
       "28          love        1434   1806   5.0   0.004789       0.033670   \n",
       "793       little        1230   1479   6.0   0.003922       0.037592   \n",
       "322        don't        1133   1395   7.0   0.003699       0.041291   \n",
       "177         nice        1188   1368   8.0   0.003627       0.044918   \n",
       "610         time        1099   1345   9.0   0.003566       0.048484   \n",
       "19        pretty        1066   1339  10.0   0.003550       0.052035   \n",
       "16           got         980   1247  11.0   0.003307       0.055341   \n",
       "965       people        1015   1223  12.0   0.003243       0.058584   \n",
       "535         come        1031   1193  13.0   0.003163       0.061748   \n",
       "63        austin        1034   1188  14.0   0.003150       0.064898   \n",
       "483         best        1015   1165  15.0   0.003089       0.067987   \n",
       "66    definitely        1011   1154  16.0   0.003060       0.071047   \n",
       "203     friendly        1105   1145  17.0   0.003036       0.074083   \n",
       "38         latte         855   1124  18.0   0.002980       0.077063   \n",
       "39          shop         947   1115  19.0   0.002957       0.080020   \n",
       "1009        iced         787   1044  20.0   0.002768       0.082788   \n",
       "\n",
       "      appears_in_pct  \n",
       "87          0.320116  \n",
       "180         0.267069  \n",
       "192         0.273634  \n",
       "26          0.256959  \n",
       "28          0.188288  \n",
       "793         0.161502  \n",
       "322         0.148766  \n",
       "177         0.155987  \n",
       "610         0.144301  \n",
       "19          0.139968  \n",
       "16          0.128676  \n",
       "965         0.133272  \n",
       "535         0.135373  \n",
       "63          0.135767  \n",
       "483         0.133272  \n",
       "66          0.132747  \n",
       "203         0.145089  \n",
       "38          0.112264  \n",
       "39          0.124343  \n",
       "1009        0.103335  "
      ]
     },
     "execution_count": 64,
     "metadata": {},
     "output_type": "execute_result"
    }
   ],
   "source": [
    "wc = count(shops['tokens'])\n",
    "wc.head(20)"
   ]
  },
  {
   "cell_type": "code",
   "execution_count": 65,
   "metadata": {},
   "outputs": [
    {
     "data": {
      "image/png": "[encoded data removed]",
      "text/plain": [
       "<Figure size 432x288 with 1 Axes>"
      ]
     },
     "metadata": {
      "needs_background": "light"
     },
     "output_type": "display_data"
    }
   ],
   "source": [
    "wc_top20 = wc[wc['rank'] <= 20]\n",
    "\n",
    "squarify.plot(sizes=wc_top20['pct_total'], label=wc_top20['word'], alpha=.8 )\n",
    "plt.axis('off')\n",
    "plt.show()"
   ]
  },
  {
   "cell_type": "markdown",
   "metadata": {},
   "source": [
    "## Can visualize the words with the greatest difference in counts between 'good' & 'bad'?\n",
    "\n",
    "Couple Notes: \n",
    "- Rel. freq. instead of absolute counts b/c of different numbers of reviews\n",
    "- Only look at the top 5-10 words with the greatest differences\n"
   ]
  },
  {
   "cell_type": "code",
   "execution_count": 66,
   "metadata": {},
   "outputs": [
    {
     "data": {
      "image/png": "[encoded data removed]",
      "text/plain": [
       "<Figure size 432x288 with 1 Axes>"
      ]
     },
     "metadata": {
      "needs_background": "light"
     },
     "output_type": "display_data"
    }
   ],
   "source": [
    "sns.lineplot(x='rank', y='cul_pct_total', data=wc);"
   ]
  },
  {
   "cell_type": "markdown",
   "metadata": {},
   "source": [
    "It appears that the first 10000 words account for nearly 90% of variation in rating."
   ]
  },
  {
   "cell_type": "markdown",
   "metadata": {},
   "source": [
    "***Applying Lemmatization to see if that improves language processing***"
   ]
  },
  {
   "cell_type": "code",
   "execution_count": 70,
   "metadata": {},
   "outputs": [],
   "source": [
    "def get_lemmas(text):\n",
    "\n",
    "    lemmas = []\n",
    "    \n",
    "    doc = nlp(text)\n",
    "    \n",
    "    for token in doc: \n",
    "        if ((token.is_stop == False) and (token.is_punct == False)) and (token.pos_ != 'PRON') and (token.text.lower() not in STOP_WORDS):\n",
    "            lemmas.append(token.lemma_)\n",
    "    \n",
    "    return lemmas"
   ]
  },
  {
   "cell_type": "code",
   "execution_count": 73,
   "metadata": {},
   "outputs": [
    {
     "data": {
      "text/plain": [
       "0    [11/25/2016, check, Love, love, love, atmosphe...\n",
       "1    [12/2/2016, list, Date, Night, Austin, Ambianc...\n",
       "2    [11/30/2016, check, list, Brunch, Spots, love,...\n",
       "3    [11/25/2016, cool, decor, good, drink, nice, s...\n",
       "4    [12/3/2016, check, locate, Northcross, mall, s...\n",
       "Name: lemmas, dtype: object"
      ]
     },
     "execution_count": 73,
     "metadata": {},
     "output_type": "execute_result"
    }
   ],
   "source": [
    "shops['lemmas'] = shops['full_review_text'].apply(get_lemmas)\n",
    "shops['lemmas'].head()"
   ]
  },
  {
   "cell_type": "code",
   "execution_count": 83,
   "metadata": {},
   "outputs": [
    {
     "data": {
      "image/png": "[encoded data removed]",
      "text/plain": [
       "<Figure size 432x288 with 1 Axes>"
      ]
     },
     "metadata": {
      "needs_background": "light"
     },
     "output_type": "display_data"
    }
   ],
   "source": [
    "wc = count(shops['lemmas'])\n",
    "wc_top20 = wc[wc['rank'] <= 500]\n",
    "\n",
    "squarify.plot(sizes=wc_top20['pct_total'], label=wc_top20['word'], alpha=.8)\n",
    "plt.axis('off')\n",
    "plt.show()"
   ]
  },
  {
   "cell_type": "code",
   "execution_count": 84,
   "metadata": {},
   "outputs": [
    {
     "data": {
      "text/plain": [
       "count    18435.000000\n",
       "mean         0.002158\n",
       "std          0.011601\n",
       "min          0.000131\n",
       "25%          0.000131\n",
       "50%          0.000263\n",
       "75%          0.000788\n",
       "max          0.469538\n",
       "Name: appears_in_pct, dtype: float64"
      ]
     },
     "execution_count": 84,
     "metadata": {},
     "output_type": "execute_result"
    }
   ],
   "source": [
    "wc['appears_in_pct'].describe()"
   ]
  },
  {
   "cell_type": "code",
   "execution_count": 85,
   "metadata": {},
   "outputs": [
    {
     "data": {
      "image/png": "[encoded data removed]",
      "text/plain": [
       "<Figure size 432x288 with 1 Axes>"
      ]
     },
     "metadata": {
      "needs_background": "light"
     },
     "output_type": "display_data"
    }
   ],
   "source": [
    "sns.distplot(wc['appears_in_pct']);"
   ]
  },
  {
   "cell_type": "markdown",
   "metadata": {
    "colab_type": "text",
    "id": "1dCb1q8XphcP",
    "toc-hr-collapsed": true
   },
   "source": [
    "## Stretch Goals\n",
    "\n",
    "* Analyze another corpus of documents - such as Indeed.com job listings ;).\n",
    "* Play with the Spacy API to\n",
    " - Extract Named Entities\n",
    " - Extracting 'noun chunks'\n",
    " - Attempt Document Classification with just Spacy\n",
    " - *Note:* This [course](https://course.spacy.io/) will be of interesting in helping you with these stretch goals. \n",
    "* Try to build a plotly dash app with your text data \n",
    "\n"
   ]
  }
 ],
 "metadata": {
  "colab": {
   "collapsed_sections": [],
   "name": "LS_DS_421_Text_Data_Assignment.ipynb",
   "provenance": [],
   "version": "0.3.2"
  },
  "kernelspec": {
   "display_name": "U4-S1-NLP (Python3)",
   "language": "python",
   "name": "u4-s1-nlp"
  },
  "language_info": {
   "codemirror_mode": {
    "name": "ipython",
    "version": 3
   },
   "file_extension": ".py",
   "mimetype": "text/x-python",
   "name": "python",
   "nbconvert_exporter": "python",
   "pygments_lexer": "ipython3",
   "version": "3.7.6"
  },
  "toc-autonumbering": false
 },
 "nbformat": 4,
 "nbformat_minor": 4
}
